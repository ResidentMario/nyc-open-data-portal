{
 "cells": [
  {
   "cell_type": "markdown",
   "metadata": {},
   "source": [
    "# Front matter"
   ]
  },
  {
   "cell_type": "code",
   "execution_count": 1,
   "metadata": {
    "collapsed": true
   },
   "outputs": [],
   "source": [
    "import requests\n",
    "import json\n",
    "import pandas as pd"
   ]
  },
  {
   "cell_type": "code",
   "execution_count": 2,
   "metadata": {},
   "outputs": [],
   "source": [
    "catalog_api_output = json.loads(open(\"../data/portal_contents_raw.json\").read())"
   ]
  },
  {
   "cell_type": "code",
   "execution_count": 3,
   "metadata": {
    "collapsed": true
   },
   "outputs": [],
   "source": [
    "json_endpoint_output = requests.get(\"https://data.cityofnewyork.us/data.json\").json()"
   ]
  },
  {
   "cell_type": "code",
   "execution_count": 4,
   "metadata": {},
   "outputs": [],
   "source": [
    "catalog_endpoints = [d['permalink'].split(\"/\")[-1] for d in catalog_api_output]"
   ]
  },
  {
   "cell_type": "code",
   "execution_count": 5,
   "metadata": {},
   "outputs": [],
   "source": [
    "json_endpoints = [json_endpoint_output['dataset'][i]['landingPage'].split(\"/\")[-1] for i in \n",
    "                  range(len(json_endpoint_output['dataset']))]"
   ]
  },
  {
   "cell_type": "code",
   "execution_count": 6,
   "metadata": {
    "scrolled": true
   },
   "outputs": [
    {
     "data": {
      "text/plain": [
       "False"
      ]
     },
     "execution_count": 6,
     "metadata": {},
     "output_type": "execute_result"
    }
   ],
   "source": [
    "set(json_endpoint_output).issubset(catalog_endpoints)"
   ]
  },
  {
   "cell_type": "code",
   "execution_count": 12,
   "metadata": {
    "scrolled": true
   },
   "outputs": [
    {
     "data": {
      "text/plain": [
       "['conformsTo', '@context', 'dataset', '@id', 'describedBy', '@type']"
      ]
     },
     "execution_count": 12,
     "metadata": {},
     "output_type": "execute_result"
    }
   ],
   "source": [
    "[endpoint for endpoint in json_endpoint_output if endpoint not in catalog_endpoints]\n",
    "# These appear to just be new datasets.\n",
    "# I generated the catalog list a week ago now."
   ]
  },
  {
   "cell_type": "markdown",
   "metadata": {},
   "source": [
    "# The match\n",
    "\n",
    "The idea here is to check what kinds of content the JSON endpoint emits by matching those endpoints against the endpoints returned by a whole-catalog search in the catalog API."
   ]
  },
  {
   "cell_type": "code",
   "execution_count": 8,
   "metadata": {
    "scrolled": true
   },
   "outputs": [],
   "source": [
    "json_endpoint_types = []\n",
    "for i, endpoint in enumerate(json_endpoints):\n",
    "    try:\n",
    "        catalog_ind = catalog_endpoints.index(json_endpoints[i])\n",
    "    except ValueError:\n",
    "        json_endpoint_types.append(\"new\")\n",
    "    else:\n",
    "        json_endpoint_types.append(catalog_api_output[catalog_ind]['resource']['type'])"
   ]
  },
  {
   "cell_type": "code",
   "execution_count": 9,
   "metadata": {},
   "outputs": [
    {
     "data": {
      "text/plain": [
       "dataset    1062\n",
       "href        174\n",
       "map         158\n",
       "file         91\n",
       "new          37\n",
       "story         1\n",
       "dtype: int64"
      ]
     },
     "execution_count": 9,
     "metadata": {},
     "output_type": "execute_result"
    }
   ],
   "source": [
    "pd.Series(json_endpoint_types).value_counts()"
   ]
  },
  {
   "cell_type": "markdown",
   "metadata": {},
   "source": [
    "Everything is neat and tidy."
   ]
  },
  {
   "cell_type": "markdown",
   "metadata": {},
   "source": [
    "# Saving the data"
   ]
  },
  {
   "cell_type": "code",
   "execution_count": 26,
   "metadata": {
    "collapsed": true
   },
   "outputs": [],
   "source": [
    "datasets = []\n",
    "for i, endpoint in enumerate(json_endpoints):\n",
    "    try:\n",
    "        catalog_ind = catalog_endpoints.index(json_endpoints[i])\n",
    "    except ValueError:\n",
    "        pass\n",
    "    else:\n",
    "        datasets.append(catalog_api_output[catalog_ind])"
   ]
  },
  {
   "cell_type": "markdown",
   "metadata": {},
   "source": [
    "Certain recently uploaded datasets are missing because they don't match because the JSON and Catalog data were generated at slightly different times, and it furthermore appears that there is a little bit of lag between them."
   ]
  },
  {
   "cell_type": "code",
   "execution_count": 27,
   "metadata": {
    "scrolled": true
   },
   "outputs": [
    {
     "data": {
      "text/plain": [
       "1486"
      ]
     },
     "execution_count": 27,
     "metadata": {},
     "output_type": "execute_result"
    }
   ],
   "source": [
    "len(datasets)"
   ]
  },
  {
   "cell_type": "code",
   "execution_count": 28,
   "metadata": {
    "scrolled": true
   },
   "outputs": [
    {
     "data": {
      "text/plain": [
       "{'classification': {'categories': [],\n",
       "  'domain_category': 'Environment',\n",
       "  'domain_metadata': [{'key': 'Update_Automation', 'value': 'Yes'},\n",
       "   {'key': 'Update_Update-Frequency', 'value': 'As needed'},\n",
       "   {'key': 'Dataset-Information_Agency',\n",
       "    'value': 'Department of Environmental Protection (DEP)'}],\n",
       "  'domain_tags': [],\n",
       "  'tags': []},\n",
       " 'link': 'https://data.cityofnewyork.us/Environment/CATS-Permits/f4rp-2kvy',\n",
       " 'metadata': {'domain': 'data.cityofnewyork.us'},\n",
       " 'permalink': 'https://data.cityofnewyork.us/d/f4rp-2kvy',\n",
       " 'resource': {'attribution': 'Department of Environmental Protection (DEP)',\n",
       "  'columns_description': ['',\n",
       "   '',\n",
       "   '',\n",
       "   '',\n",
       "   '',\n",
       "   '',\n",
       "   '',\n",
       "   '',\n",
       "   '',\n",
       "   '',\n",
       "   '',\n",
       "   '',\n",
       "   '',\n",
       "   '',\n",
       "   '',\n",
       "   '',\n",
       "   '',\n",
       "   '',\n",
       "   '',\n",
       "   '',\n",
       "   ''],\n",
       "  'columns_field_name': ['requestid',\n",
       "   'applicationid',\n",
       "   'requesttype',\n",
       "   'house',\n",
       "   'street',\n",
       "   'borough',\n",
       "   'bin',\n",
       "   'block',\n",
       "   'lot',\n",
       "   'ownername',\n",
       "   'expirationdate',\n",
       "   'make',\n",
       "   'model',\n",
       "   'burnermake',\n",
       "   'burnermodel',\n",
       "   'primaryfuel',\n",
       "   'secondaryfuel',\n",
       "   'quantity',\n",
       "   'issuedate',\n",
       "   'status',\n",
       "   'premisename'],\n",
       "  'columns_name': ['RequestID',\n",
       "   'ApplicationID',\n",
       "   'RequestType',\n",
       "   'House',\n",
       "   'Street',\n",
       "   'Borough',\n",
       "   'Bin',\n",
       "   'Block',\n",
       "   'Lot',\n",
       "   'OwnerName',\n",
       "   'ExpirationDate',\n",
       "   'Make',\n",
       "   'Model',\n",
       "   'BurnerMake',\n",
       "   'BurnerModel',\n",
       "   'PrimaryFuel',\n",
       "   'SecondaryFuel',\n",
       "   'Quantity',\n",
       "   'IssueDate',\n",
       "   'status',\n",
       "   'PremiseName'],\n",
       "  'createdAt': '2015-07-07T22:05:30.000Z',\n",
       "  'description': 'Contains information on current boiler and industrial operation permits in New York City registered with  DEP.',\n",
       "  'id': 'f4rp-2kvy',\n",
       "  'name': 'CATS Permits',\n",
       "  'nbe_fxf': 'rv9q-zea8',\n",
       "  'type': 'dataset',\n",
       "  'updatedAt': '2016-07-25T15:52:35.000Z',\n",
       "  'view_count': {'page_views_last_month': 128,\n",
       "   'page_views_last_week': 28,\n",
       "   'page_views_total': 648}}}"
      ]
     },
     "execution_count": 28,
     "metadata": {},
     "output_type": "execute_result"
    }
   ],
   "source": [
    "datasets[0]"
   ]
  },
  {
   "cell_type": "code",
   "execution_count": 29,
   "metadata": {},
   "outputs": [],
   "source": [
    "with open(\"../data/datasets.json\", \"w\") as f:\n",
    "    f.write(json.dumps(datasets, indent=4))"
   ]
  }
 ],
 "metadata": {
  "kernelspec": {
   "display_name": "Python 3",
   "language": "python",
   "name": "python3"
  },
  "language_info": {
   "codemirror_mode": {
    "name": "ipython",
    "version": 3
   },
   "file_extension": ".py",
   "mimetype": "text/x-python",
   "name": "python",
   "nbconvert_exporter": "python",
   "pygments_lexer": "ipython3",
   "version": "3.6.1"
  }
 },
 "nbformat": 4,
 "nbformat_minor": 1
}
