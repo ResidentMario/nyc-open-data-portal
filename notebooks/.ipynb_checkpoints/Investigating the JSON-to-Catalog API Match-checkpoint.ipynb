{
 "cells": [
  {
   "cell_type": "markdown",
   "metadata": {},
   "source": [
    "# Front matter"
   ]
  },
  {
   "cell_type": "code",
   "execution_count": 1,
   "metadata": {
    "collapsed": true
   },
   "outputs": [],
   "source": [
    "import requests\n",
    "import json\n",
    "import pandas as pd"
   ]
  },
  {
   "cell_type": "code",
   "execution_count": 2,
   "metadata": {
    "collapsed": false
   },
   "outputs": [],
   "source": [
    "catalog_api_output = json.loads(open(\"../data/portal_contents_raw.json\").read())"
   ]
  },
  {
   "cell_type": "code",
   "execution_count": 3,
   "metadata": {
    "collapsed": true
   },
   "outputs": [],
   "source": [
    "json_endpoint_output = requests.get(\"https://data.cityofnewyork.us/data.json\").json()"
   ]
  },
  {
   "cell_type": "code",
   "execution_count": 4,
   "metadata": {
    "collapsed": false
   },
   "outputs": [],
   "source": [
    "catalog_endpoints = [d['permalink'].split(\"/\")[-1] for d in catalog_api_output]"
   ]
  },
  {
   "cell_type": "code",
   "execution_count": 5,
   "metadata": {
    "collapsed": false
   },
   "outputs": [],
   "source": [
    "json_endpoints = [json_endpoint_output['dataset'][i]['landingPage'].split(\"/\")[-1] for i in \n",
    "                  range(len(json_endpoint_output['dataset']))]"
   ]
  },
  {
   "cell_type": "code",
   "execution_count": 6,
   "metadata": {
    "collapsed": false,
    "scrolled": true
   },
   "outputs": [
    {
     "data": {
      "text/plain": [
       "False"
      ]
     },
     "execution_count": 6,
     "metadata": {},
     "output_type": "execute_result"
    }
   ],
   "source": [
    "set(json_endpoint_output).issubset(catalog_endpoints)"
   ]
  },
  {
   "cell_type": "code",
   "execution_count": 7,
   "metadata": {
    "collapsed": false,
    "scrolled": true
   },
   "outputs": [
    {
     "data": {
      "text/plain": [
       "['conformsTo', '@context', '@type', '@id', 'describedBy', 'dataset']"
      ]
     },
     "execution_count": 7,
     "metadata": {},
     "output_type": "execute_result"
    }
   ],
   "source": [
    "[endpoint for endpoint in json_endpoint_output if endpoint not in catalog_endpoints]\n",
    "# These appear to just be new datasets.\n",
    "# I generated the catalog list a week ago now."
   ]
  },
  {
   "cell_type": "markdown",
   "metadata": {},
   "source": [
    "# The match\n",
    "\n",
    "The idea here is to check what kinds of content the JSON endpoint emits by matching those endpoints against the endpoints returned by a whole-catalog search in the catalog API. However, when I did this I got a startling result:"
   ]
  },
  {
   "cell_type": "code",
   "execution_count": 16,
   "metadata": {
    "collapsed": false,
    "scrolled": true
   },
   "outputs": [],
   "source": [
    "json_endpoint_types = []\n",
    "for i, endpoint in enumerate(json_endpoints):\n",
    "    try:\n",
    "        catalog_ind = catalog_endpoints.index(json_endpoints[i])\n",
    "    except ValueError:\n",
    "        json_endpoint_types.append(\"new\")\n",
    "    else:\n",
    "        json_endpoint_types.append(catalog_api_output[catalog_ind]['resource']['type'])"
   ]
  },
  {
   "cell_type": "code",
   "execution_count": 19,
   "metadata": {
    "collapsed": false
   },
   "outputs": [
    {
     "data": {
      "text/plain": [
       "dataset    1069\n",
       "href        174\n",
       "map         158\n",
       "file         91\n",
       "new          36\n",
       "story         1\n",
       "dtype: int64"
      ]
     },
     "execution_count": 19,
     "metadata": {},
     "output_type": "execute_result"
    }
   ],
   "source": [
    "pd.Series(json_endpoint_types).value_counts()"
   ]
  },
  {
   "cell_type": "markdown",
   "metadata": {},
   "source": [
    "Everything is neat and tidy."
   ]
  }
 ],
 "metadata": {
  "kernelspec": {
   "display_name": "Python 3",
   "language": "python",
   "name": "python3"
  },
  "language_info": {
   "codemirror_mode": {
    "name": "ipython",
    "version": 3
   },
   "file_extension": ".py",
   "mimetype": "text/x-python",
   "name": "python",
   "nbconvert_exporter": "python",
   "pygments_lexer": "ipython3",
   "version": "3.5.1"
  }
 },
 "nbformat": 4,
 "nbformat_minor": 0
}
